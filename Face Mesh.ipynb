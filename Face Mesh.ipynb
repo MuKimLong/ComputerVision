{
 "cells": [
  {
   "cell_type": "code",
   "execution_count": 1,
   "id": "51673ec4",
   "metadata": {},
   "outputs": [],
   "source": [
    "import cv2\n",
    "import time\n",
    "import mediapipe as mp"
   ]
  },
  {
   "cell_type": "code",
   "execution_count": null,
   "id": "fb56ea9f",
   "metadata": {},
   "outputs": [],
   "source": [
    "cap = cv2.VideoCapture('2.mp4')\n",
    "pTime = 0"
   ]
  },
  {
   "cell_type": "code",
   "execution_count": null,
   "id": "c5cb3918",
   "metadata": {},
   "outputs": [],
   "source": [
    "mpDraw = mp.solutions.drawing_utils\n",
    "mpFaceMesh  = mp.solutions.face_mesh\n",
    "faceMesh = mpFaceMesh.FaceMesh(max_num_faces = 4)\n",
    "drawSpec = mpDraw.DrawingSpec(thickness = 1, circle_radius = 2)\n",
    "\n",
    "## 468 points"
   ]
  },
  {
   "cell_type": "code",
   "execution_count": null,
   "id": "745c2deb",
   "metadata": {},
   "outputs": [],
   "source": [
    "while True:\n",
    "    success, img = cap.read()\n",
    "    imgRGB = cv2.cvtColor(img, cv2.COLOR_BGR2RGB)\n",
    "    results = faceMesh.process(imgRGB)\n",
    "    if results.multi_face_landmarks:\n",
    "        for faceLms in results.multi_face_landmarks:\n",
    "            mpDraw.draw_landmarks(img, faceLms, mpFaceMesh.FACEMESH_CONTOURS,\n",
    "                                 drawSpec, drawSpec)  ## new version is FACEMESH_CONTOURS\n",
    "            for id, lm in enumerate(faceLms.landmark):\n",
    "                # print(lm)\n",
    "                ih, iw, ic = img.shape\n",
    "                x, y  = int(lm.x * iw), int(lm.y * ih)\n",
    "                print(id, x, y)\n",
    "        \n",
    "    cTime = time.time()\n",
    "    fps = 1 / (cTime - pTime)\n",
    "    pTime = cTime\n",
    "    \n",
    "    cv2.putText(img, f\"FPS: {int(fps)}\", (20,70), cv2.FONT_HERSHEY_PLAIN,\n",
    "               3, (0,255,0), 2)\n",
    "    \n",
    "    cv2.imshow('Image', img)\n",
    "    cv2.waitKey(1)"
   ]
  },
  {
   "cell_type": "markdown",
   "id": "80d59861",
   "metadata": {},
   "source": [
    "#### Face Mesh Module\n",
    "\n",
    "\n",
    "class FaceMeshDetector():\n",
    "\n",
    "    def __init__(self, staticMode=False, maxFaces=2, minDetectionCon=0.5, minTrackCon=0.5):\n",
    "\n",
    "        self.staticMode = staticMode\n",
    "        self.maxFaces = maxFaces\n",
    "        self.minDetectionCon = minDetectionCon\n",
    "        self.minTrackCon = minTrackCon\n",
    "\n",
    "        self.mpDraw = mp.solutions.drawing_utils\n",
    "        self.mpFaceMesh = mp.solutions.face_mesh\n",
    "        self.faceMesh = self.mpFaceMesh.FaceMesh(self.staticMode, self.maxFaces,\n",
    "        self.minDetectionCon, self.minTrackCon)\n",
    "        self.drawSpec = self.mpDraw.DrawingSpec(thickness=1, circle_radius=2)\n",
    "\n",
    "    def findFaceMesh(self, img, draw=True):\n",
    "        self.imgRGB = cv2.cvtColor(img, cv2.COLOR_BGR2RGB)\n",
    "        self.results = self.faceMesh.process(self.imgRGB)\n",
    "        faces = []\n",
    "        if self.results.multi_face_landmarks:\n",
    "            for faceLms in self.results.multi_face_landmarks:\n",
    "                if draw:\n",
    "                    self.mpDraw.draw_landmarks(img, faceLms, self.mpFaceMesh.FACEMESH_CONTOURS,\n",
    "                    \t\t\t\t\t\t   self.drawSpec, self.drawSpec)\n",
    "                face = []\n",
    "                for id,lm in enumerate(faceLms.landmark):\n",
    "                    #print(lm)\n",
    "                    ih, iw, ic = img.shape\n",
    "                    x,y = int(lm.x*iw), int(lm.y*ih)\n",
    "                    #cv2.putText(img, str(id), (x, y), cv2.FONT_HERSHEY_PLAIN,\n",
    "                    # 0.7, (0, 255, 0), 1)\n",
    "\n",
    "                    #print(id,x,y)\n",
    "                    face.append([x,y])\n",
    "            faces.append(face)\n",
    "        return img, faces\n",
    "\n",
    "def main():\n",
    "    cap = cv2.VideoCapture(\"2.mp4\")\n",
    "    pTime = 0\n",
    "    detector = FaceMeshDetector(maxFaces=2)\n",
    "    while True:\n",
    "        success, img = cap.read()\n",
    "        img, faces = detector.findFaceMesh(img)\n",
    "        if len(faces)!= 0:\n",
    "            print(faces[0])\n",
    "        cTime = time.time()\n",
    "        fps = 1 / (cTime - pTime)\n",
    "        pTime = cTime\n",
    "        cv2.putText(img, f\"FPS: {int(fps)}\", (20, 70), cv2.FONT_HERSHEY_PLAIN,\n",
    "        3, (0, 255, 0), 3)\n",
    "        cv2.imshow(\"Image\", img)\n",
    "        cv2.waitKey(1)\n",
    "\n",
    "if __name__ == \"__main__\":\n",
    "\tmain()"
   ]
  },
  {
   "cell_type": "code",
   "execution_count": null,
   "id": "cb29e7f4",
   "metadata": {},
   "outputs": [],
   "source": []
  },
  {
   "cell_type": "code",
   "execution_count": null,
   "id": "c55a6b4a",
   "metadata": {},
   "outputs": [],
   "source": []
  }
 ],
 "metadata": {
  "kernelspec": {
   "display_name": "Python 3 (ipykernel)",
   "language": "python",
   "name": "python3"
  },
  "language_info": {
   "codemirror_mode": {
    "name": "ipython",
    "version": 3
   },
   "file_extension": ".py",
   "mimetype": "text/x-python",
   "name": "python",
   "nbconvert_exporter": "python",
   "pygments_lexer": "ipython3",
   "version": "3.9.12"
  }
 },
 "nbformat": 4,
 "nbformat_minor": 5
}
